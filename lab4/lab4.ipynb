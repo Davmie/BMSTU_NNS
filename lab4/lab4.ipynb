{
  "cells": [
    {
      "cell_type": "code",
      "execution_count": 1,
      "metadata": {},
      "outputs": [],
      "source": [
        "import pandas as pd\n",
        "import numpy as np\n",
        "from sklearn.model_selection import train_test_split\n",
        "from sklearn.preprocessing import LabelEncoder, StandardScaler\n",
        "from sklearn.linear_model import Perceptron\n",
        "from sklearn.ensemble import RandomForestClassifier\n",
        "from xgboost import XGBClassifier\n",
        "from sklearn.metrics import accuracy_score"
      ]
    },
    {
      "cell_type": "code",
      "execution_count": 2,
      "metadata": {},
      "outputs": [],
      "source": [
        "# Загрузка данных и сэмплирование\n",
        "df = pd.read_csv('../data/trips.csv', encoding=\"utf_16_le\")\n",
        "df = df.sample(frac=0.2, random_state=42).copy()"
      ]
    },
    {
      "cell_type": "code",
      "execution_count": null,
      "metadata": {},
      "outputs": [],
      "source": [
        "# Преобразование временных меток\n",
        "df['started_at'] = pd.to_datetime(df['started_at'])\n",
        "df['ended_at'] = pd.to_datetime(df['ended_at'])\n",
        "\n",
        "# Продолжительность поездки в минутах\n",
        "df['duration'] = (df['ended_at'] - df['started_at']).dt.total_seconds() / 60\n",
        "\n",
        "# Фильтр аномалий (поездки с отрицательной длительностью)\n",
        "df = df[df['duration'] > 0]\n",
        "\n",
        "# Извлекаем час и день недели\n",
        "df['hour'] = df['started_at'].dt.hour\n",
        "df['day_of_week'] = df['started_at'].dt.dayofweek.map({\n",
        "    0: 'Mon', 1: 'Tue', 2: 'Wed', 3: 'Thu', 4: 'Fri', 5: 'Sat', 6: 'Sun'\n",
        "})\n",
        "\n",
        "# Удаляем ненужные параметры\n",
        "df.drop([\"started_at\", \"ended_at\", \"start_station_name\", \"end_station_name\", \"start_lat\", \"start_lng\", \"end_lat\", \"end_lng\"], axis=1, inplace=True)\n",
        "# df.drop([\"started_at\", \"ended_at\"], axis=1, inplace=True)\n",
        "\n",
        "# Кодирование категориальных признаков\n",
        "le = LabelEncoder()\n",
        "for col in df.columns:\n",
        "    if df[col].dtype == 'object':\n",
        "        df[col] = le.fit_transform(df[col])\n",
        "\n",
        "# Целевая переменная\n",
        "y = df['member_casual']\n",
        "\n",
        "# Признаки\n",
        "X = df[['duration', 'rideable_type', 'hour', 'day_of_week']]\n",
        "\n",
        "# Нормализация\n",
        "scaler = StandardScaler()\n",
        "X_scaled = scaler.fit_transform(X)\n",
        "\n",
        "# Разделение на train/test\n",
        "X_train, X_test, y_train, y_test = train_test_split(X_scaled, y, test_size=0.2, random_state=42)"
      ]
    },
    {
      "cell_type": "code",
      "execution_count": 4,
      "metadata": {},
      "outputs": [
        {
          "name": "stderr",
          "output_type": "stream",
          "text": [
            "c:\\Users\\dmitriy.minaev\\AppData\\Local\\Programs\\Python\\Python312\\Lib\\site-packages\\xgboost\\training.py:183: UserWarning: [18:44:30] WARNING: C:\\actions-runner\\_work\\xgboost\\xgboost\\src\\learner.cc:738: \n",
            "Parameters: { \"use_label_encoder\" } are not used.\n",
            "\n",
            "  bst.update(dtrain, iteration=i, fobj=obj)\n"
          ]
        }
      ],
      "source": [
        "# Персептрон\n",
        "perceptron = Perceptron(max_iter=1000, tol=1e-3)\n",
        "perceptron.fit(X_train, y_train)\n",
        "y_pred_p = perceptron.predict(X_test)\n",
        "\n",
        "# Случайный лес\n",
        "rf = RandomForestClassifier(n_estimators=100, random_state=42)\n",
        "rf.fit(X_train, y_train)\n",
        "y_pred_rf = rf.predict(X_test)\n",
        "\n",
        "# XGBoost\n",
        "xgb = XGBClassifier(use_label_encoder=False, eval_metric='logloss')\n",
        "xgb.fit(X_train, y_train)\n",
        "y_pred_xgb = xgb.predict(X_test)"
      ]
    },
    {
      "cell_type": "code",
      "execution_count": 5,
      "metadata": {},
      "outputs": [
        {
          "name": "stdout",
          "output_type": "stream",
          "text": [
            "Персептрон: 0.8222\n",
            "Случайный лес: 0.7676\n",
            "XGBoost: 0.8228\n"
          ]
        }
      ],
      "source": [
        "acc_p = accuracy_score(y_test, y_pred_p)\n",
        "acc_rf = accuracy_score(y_test, y_pred_rf)\n",
        "acc_xgb = accuracy_score(y_test, y_pred_xgb)\n",
        "\n",
        "print(f'Персептрон: {acc_p:.4f}')\n",
        "print(f'Случайный лес: {acc_rf:.4f}')\n",
        "print(f'XGBoost: {acc_xgb:.4f}')"
      ]
    }
  ],
  "metadata": {
    "kernelspec": {
      "display_name": "Python 3",
      "language": "python",
      "name": "python3"
    },
    "language_info": {
      "codemirror_mode": {
        "name": "ipython",
        "version": 3
      },
      "file_extension": ".py",
      "mimetype": "text/x-python",
      "name": "python",
      "nbconvert_exporter": "python",
      "pygments_lexer": "ipython3",
      "version": "3.12.9"
    }
  },
  "nbformat": 4,
  "nbformat_minor": 5
}
