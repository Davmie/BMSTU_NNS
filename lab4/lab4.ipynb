{
  "cells": [
    {
      "cell_type": "markdown",
      "metadata": {},
      "source": [
        "# 🚲 Прогнозирование типа пользователя Divvy Bike\n",
        "Цель: сравнить эффективность персептрона, случайного леса и XGBoost."
      ]
    },
    {
      "cell_type": "code",
      "execution_count": 1,
      "metadata": {},
      "outputs": [],
      "source": [
        "import pandas as pd\n",
        "import numpy as np\n",
        "from sklearn.model_selection import train_test_split\n",
        "from sklearn.preprocessing import LabelEncoder, StandardScaler\n",
        "from sklearn.linear_model import Perceptron\n",
        "from sklearn.ensemble import RandomForestClassifier\n",
        "from xgboost import XGBClassifier\n",
        "from sklearn.metrics import accuracy_score"
      ]
    },
    {
      "cell_type": "markdown",
      "metadata": {},
      "source": [
        "## 📂 Загрузка данных"
      ]
    },
    {
      "cell_type": "code",
      "execution_count": 16,
      "metadata": {},
      "outputs": [],
      "source": [
        "df = pd.read_csv('../data/trips.csv', encoding=\"utf_16_le\")\n",
        "df = df.sample(n=10000, random_state=42).copy()"
      ]
    },
    {
      "cell_type": "markdown",
      "metadata": {},
      "source": [
        "## 🔧 Предобработка данных"
      ]
    },
    {
      "cell_type": "code",
      "execution_count": 17,
      "metadata": {},
      "outputs": [],
      "source": [
        "# Удаляем лишние колонки\n",
        "df.drop(['start_station_name', 'end_station_name'], axis=1, inplace=True)\n",
        "\n",
        "# Преобразуем время в удобные признаки\n",
        "df['started_at'] = pd.to_datetime(df['started_at'])\n",
        "df['ended_at'] = pd.to_datetime(df['ended_at'])\n",
        "df['duration_sec'] = (df['ended_at'] - df['started_at']).dt.total_seconds()\n",
        "df['hour_of_day'] = df['started_at'].dt.hour\n",
        "\n",
        "# Кодируем категориальные признаки\n",
        "le = LabelEncoder()\n",
        "df['member_casual'] = le.fit_transform(df['member_casual'])  # member -> 0, casual -> 1\n",
        "df['rideable_type'] = LabelEncoder().fit_transform(df['rideable_type'])\n",
        "\n",
        "# Выбираем фичи и таргет\n",
        "X = df[['hour_of_day', 'rideable_type', 'duration_sec']]\n",
        "y = df['member_casual']\n",
        "\n",
        "# Нормализация\n",
        "scaler = StandardScaler()\n",
        "X_scaled = scaler.fit_transform(X)\n",
        "\n",
        "# Разделение на train/test\n",
        "X_train, X_test, y_train, y_test = train_test_split(X_scaled, y, test_size=0.3, random_state=42)"
      ]
    },
    {
      "cell_type": "markdown",
      "metadata": {},
      "source": [
        "## 🤖 Обучение моделей"
      ]
    },
    {
      "cell_type": "code",
      "execution_count": 18,
      "metadata": {},
      "outputs": [
        {
          "name": "stderr",
          "output_type": "stream",
          "text": [
            "c:\\Users\\dmitriy.minaev\\AppData\\Local\\Programs\\Python\\Python312\\Lib\\site-packages\\xgboost\\training.py:183: UserWarning: [04:48:52] WARNING: C:\\actions-runner\\_work\\xgboost\\xgboost\\src\\learner.cc:738: \n",
            "Parameters: { \"use_label_encoder\" } are not used.\n",
            "\n",
            "  bst.update(dtrain, iteration=i, fobj=obj)\n"
          ]
        }
      ],
      "source": [
        "# Персептрон\n",
        "perceptron = Perceptron(max_iter=1000, tol=1e-3)\n",
        "perceptron.fit(X_train, y_train)\n",
        "y_pred_p = perceptron.predict(X_test)\n",
        "\n",
        "# Случайный лес\n",
        "rf = RandomForestClassifier(n_estimators=100, random_state=42)\n",
        "rf.fit(X_train, y_train)\n",
        "y_pred_rf = rf.predict(X_test)\n",
        "\n",
        "# XGBoost\n",
        "xgb = XGBClassifier(use_label_encoder=False, eval_metric='logloss')\n",
        "xgb.fit(X_train, y_train)\n",
        "y_pred_xgb = xgb.predict(X_test)"
      ]
    },
    {
      "cell_type": "markdown",
      "metadata": {},
      "source": [
        "## 📊 Сравнение моделей"
      ]
    },
    {
      "cell_type": "code",
      "execution_count": 20,
      "metadata": {},
      "outputs": [
        {
          "name": "stdout",
          "output_type": "stream",
          "text": [
            "Персептрон: 0.7420\n",
            "Случайный лес: 0.7460\n",
            "XGBoost: 0.8177\n"
          ]
        }
      ],
      "source": [
        "acc_p = accuracy_score(y_test, y_pred_p)\n",
        "acc_rf = accuracy_score(y_test, y_pred_rf)\n",
        "acc_xgb = accuracy_score(y_test, y_pred_xgb)\n",
        "\n",
        "print(f'Персептрон: {acc_p:.4f}')\n",
        "print(f'Случайный лес: {acc_rf:.4f}')\n",
        "print(f'XGBoost: {acc_xgb:.4f}')"
      ]
    }
  ],
  "metadata": {
    "kernelspec": {
      "display_name": "Python 3",
      "language": "python",
      "name": "python3"
    },
    "language_info": {
      "codemirror_mode": {
        "name": "ipython",
        "version": 3
      },
      "file_extension": ".py",
      "mimetype": "text/x-python",
      "name": "python",
      "nbconvert_exporter": "python",
      "pygments_lexer": "ipython3",
      "version": "3.12.9"
    }
  },
  "nbformat": 4,
  "nbformat_minor": 5
}
