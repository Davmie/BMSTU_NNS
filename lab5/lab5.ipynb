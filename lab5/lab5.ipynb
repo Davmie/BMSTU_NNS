{
  "cells": [
    {
      "cell_type": "code",
      "execution_count": 1,
      "metadata": {},
      "outputs": [],
      "source": [
        "import pandas as pd\n",
        "import numpy as np\n",
        "from sklearn.model_selection import train_test_split\n",
        "from sklearn.ensemble import RandomForestClassifier\n",
        "from xgboost import XGBClassifier\n",
        "from sklearn.metrics import accuracy_score\n",
        "from sklearn.preprocessing import LabelEncoder, StandardScaler\n",
        "import tensorflow as tf\n",
        "from tensorflow.keras.models import Sequential\n",
        "from tensorflow.keras.layers import SimpleRNN, Dense"
      ]
    },
    {
      "cell_type": "code",
      "execution_count": 2,
      "metadata": {},
      "outputs": [],
      "source": [
        "# Загрузка данных\n",
        "df = pd.read_csv('../data/trips.csv', encoding=\"utf_16_le\")\n",
        "df = df.sample(frac=0.2, random_state=42).copy()"
      ]
    },
    {
      "cell_type": "code",
      "execution_count": 3,
      "metadata": {},
      "outputs": [],
      "source": [
        "# Преобразование временных меток\n",
        "df['started_at'] = pd.to_datetime(df['started_at'])\n",
        "df['ended_at'] = pd.to_datetime(df['ended_at'])\n",
        "\n",
        "# Продолжительность поездки в минутах\n",
        "df['duration'] = (df['ended_at'] - df['started_at']).dt.total_seconds() / 60\n",
        "\n",
        "# Фильтр аномалий (поездки с отрицательной длительностью)\n",
        "df = df[df['duration'] > 0]\n",
        "\n",
        "# Извлекаем час и день недели\n",
        "df['hour'] = df['started_at'].dt.hour\n",
        "df['day_of_week'] = df['started_at'].dt.dayofweek.map({\n",
        "    0: 'Mon', 1: 'Tue', 2: 'Wed', 3: 'Thu', 4: 'Fri', 5: 'Sat', 6: 'Sun'\n",
        "})\n",
        "\n",
        "# Удаляем ненужные параметры\n",
        "df.drop([\"started_at\", \"ended_at\", \"start_station_name\", \"end_station_name\", \"start_lat\", \"start_lng\", \"end_lat\", \"end_lng\"], axis=1, inplace=True)\n",
        "# df.drop([\"started_at\", \"ended_at\"], axis=1, inplace=True)\n",
        "\n",
        "# Кодирование категориальных признаков\n",
        "le = LabelEncoder()\n",
        "for col in df.columns:\n",
        "    if df[col].dtype == 'object':\n",
        "        df[col] = le.fit_transform(df[col])\n",
        "\n",
        "# Целевая переменная\n",
        "y = df['member_casual']\n",
        "\n",
        "# Признаки\n",
        "X = df[['duration', 'rideable_type', 'hour', 'day_of_week']]\n",
        "\n",
        "# Нормализация\n",
        "scaler = StandardScaler()\n",
        "X_scaled = scaler.fit_transform(X)\n",
        "\n",
        "# Разделение на train/test\n",
        "X_train, X_test, y_train, y_test = train_test_split(X_scaled, y, test_size=0.2, random_state=42)"
      ]
    },
    {
      "cell_type": "code",
      "execution_count": 4,
      "metadata": {},
      "outputs": [],
      "source": [
        "# Для RNN нужно добавить временную ось (samples, timesteps, features)\n",
        "X_train_rnn = X_train.reshape((X_train.shape[0], 1, X_train.shape[1]))\n",
        "X_test_rnn = X_test.reshape((X_test.shape[0], 1, X_test.shape[1]))"
      ]
    },
    {
      "cell_type": "code",
      "execution_count": 5,
      "metadata": {},
      "outputs": [
        {
          "name": "stdout",
          "output_type": "stream",
          "text": [
            "Accuracy (Random Forest): 0.7681\n"
          ]
        }
      ],
      "source": [
        "# Random Forest\n",
        "rf = RandomForestClassifier(n_estimators=100, random_state=42)\n",
        "rf.fit(X_train, y_train)\n",
        "y_pred_rf = rf.predict(X_test)\n",
        "acc_rf = accuracy_score(y_test, y_pred_rf)\n",
        "print(f'Accuracy (Random Forest): {acc_rf:.4f}')"
      ]
    },
    {
      "cell_type": "code",
      "execution_count": 6,
      "metadata": {},
      "outputs": [
        {
          "name": "stderr",
          "output_type": "stream",
          "text": [
            "c:\\Users\\dmitriy.minaev\\AppData\\Local\\Programs\\Python\\Python312\\Lib\\site-packages\\xgboost\\training.py:183: UserWarning: [18:54:47] WARNING: C:\\actions-runner\\_work\\xgboost\\xgboost\\src\\learner.cc:738: \n",
            "Parameters: { \"use_label_encoder\" } are not used.\n",
            "\n",
            "  bst.update(dtrain, iteration=i, fobj=obj)\n"
          ]
        },
        {
          "name": "stdout",
          "output_type": "stream",
          "text": [
            "Accuracy (XGBoost): 0.8270\n"
          ]
        }
      ],
      "source": [
        "# XGBoost\n",
        "xgb = XGBClassifier(use_label_encoder=False, eval_metric='logloss', n_estimators=100, random_state=42)\n",
        "xgb.fit(X_train, y_train)\n",
        "y_pred_xgb = xgb.predict(X_test)\n",
        "acc_xgb = accuracy_score(y_test, y_pred_xgb)\n",
        "print(f'Accuracy (XGBoost): {acc_xgb:.4f}')"
      ]
    },
    {
      "cell_type": "code",
      "execution_count": 9,
      "metadata": {},
      "outputs": [
        {
          "name": "stdout",
          "output_type": "stream",
          "text": [
            "Epoch 1/15\n",
            "\u001b[1m579/579\u001b[0m \u001b[32m━━━━━━━━━━━━━━━━━━━━\u001b[0m\u001b[37m\u001b[0m \u001b[1m5s\u001b[0m 4ms/step - accuracy: 0.8254 - loss: 0.4753 - val_accuracy: 0.8353 - val_loss: 0.4437\n",
            "Epoch 2/15\n",
            "\u001b[1m579/579\u001b[0m \u001b[32m━━━━━━━━━━━━━━━━━━━━\u001b[0m\u001b[37m\u001b[0m \u001b[1m2s\u001b[0m 3ms/step - accuracy: 0.8292 - loss: 0.4482 - val_accuracy: 0.8355 - val_loss: 0.4393\n",
            "Epoch 3/15\n",
            "\u001b[1m579/579\u001b[0m \u001b[32m━━━━━━━━━━━━━━━━━━━━\u001b[0m\u001b[37m\u001b[0m \u001b[1m2s\u001b[0m 3ms/step - accuracy: 0.8352 - loss: 0.4394 - val_accuracy: 0.8353 - val_loss: 0.4424\n",
            "Epoch 4/15\n",
            "\u001b[1m579/579\u001b[0m \u001b[32m━━━━━━━━━━━━━━━━━━━━\u001b[0m\u001b[37m\u001b[0m \u001b[1m2s\u001b[0m 3ms/step - accuracy: 0.8225 - loss: 0.4571 - val_accuracy: 0.8355 - val_loss: 0.4387\n",
            "Epoch 5/15\n",
            "\u001b[1m579/579\u001b[0m \u001b[32m━━━━━━━━━━━━━━━━━━━━\u001b[0m\u001b[37m\u001b[0m \u001b[1m2s\u001b[0m 3ms/step - accuracy: 0.8274 - loss: 0.4491 - val_accuracy: 0.8355 - val_loss: 0.4396\n",
            "Epoch 6/15\n",
            "\u001b[1m579/579\u001b[0m \u001b[32m━━━━━━━━━━━━━━━━━━━━\u001b[0m\u001b[37m\u001b[0m \u001b[1m2s\u001b[0m 3ms/step - accuracy: 0.8320 - loss: 0.4412 - val_accuracy: 0.8355 - val_loss: 0.4389\n",
            "Epoch 7/15\n",
            "\u001b[1m579/579\u001b[0m \u001b[32m━━━━━━━━━━━━━━━━━━━━\u001b[0m\u001b[37m\u001b[0m \u001b[1m2s\u001b[0m 3ms/step - accuracy: 0.8230 - loss: 0.4578 - val_accuracy: 0.8357 - val_loss: 0.4394\n",
            "Epoch 8/15\n",
            "\u001b[1m579/579\u001b[0m \u001b[32m━━━━━━━━━━━━━━━━━━━━\u001b[0m\u001b[37m\u001b[0m \u001b[1m2s\u001b[0m 3ms/step - accuracy: 0.8306 - loss: 0.4446 - val_accuracy: 0.8359 - val_loss: 0.4378\n",
            "Epoch 9/15\n",
            "\u001b[1m579/579\u001b[0m \u001b[32m━━━━━━━━━━━━━━━━━━━━\u001b[0m\u001b[37m\u001b[0m \u001b[1m2s\u001b[0m 3ms/step - accuracy: 0.8312 - loss: 0.4431 - val_accuracy: 0.8359 - val_loss: 0.4377\n",
            "Epoch 10/15\n",
            "\u001b[1m579/579\u001b[0m \u001b[32m━━━━━━━━━━━━━━━━━━━━\u001b[0m\u001b[37m\u001b[0m \u001b[1m2s\u001b[0m 3ms/step - accuracy: 0.8281 - loss: 0.4485 - val_accuracy: 0.8361 - val_loss: 0.4390\n",
            "Epoch 11/15\n",
            "\u001b[1m579/579\u001b[0m \u001b[32m━━━━━━━━━━━━━━━━━━━━\u001b[0m\u001b[37m\u001b[0m \u001b[1m2s\u001b[0m 3ms/step - accuracy: 0.8276 - loss: 0.4483 - val_accuracy: 0.8359 - val_loss: 0.4388\n",
            "Epoch 12/15\n",
            "\u001b[1m579/579\u001b[0m \u001b[32m━━━━━━━━━━━━━━━━━━━━\u001b[0m\u001b[37m\u001b[0m \u001b[1m2s\u001b[0m 3ms/step - accuracy: 0.8246 - loss: 0.4530 - val_accuracy: 0.8359 - val_loss: 0.4385\n",
            "Epoch 13/15\n",
            "\u001b[1m579/579\u001b[0m \u001b[32m━━━━━━━━━━━━━━━━━━━━\u001b[0m\u001b[37m\u001b[0m \u001b[1m2s\u001b[0m 3ms/step - accuracy: 0.8264 - loss: 0.4501 - val_accuracy: 0.8361 - val_loss: 0.4385\n",
            "Epoch 14/15\n",
            "\u001b[1m579/579\u001b[0m \u001b[32m━━━━━━━━━━━━━━━━━━━━\u001b[0m\u001b[37m\u001b[0m \u001b[1m2s\u001b[0m 3ms/step - accuracy: 0.8239 - loss: 0.4522 - val_accuracy: 0.8335 - val_loss: 0.4411\n",
            "Epoch 15/15\n",
            "\u001b[1m579/579\u001b[0m \u001b[32m━━━━━━━━━━━━━━━━━━━━\u001b[0m\u001b[37m\u001b[0m \u001b[1m2s\u001b[0m 3ms/step - accuracy: 0.8246 - loss: 0.4551 - val_accuracy: 0.8359 - val_loss: 0.4381\n",
            "Accuracy (RNN): 0.8297\n"
          ]
        }
      ],
      "source": [
        "# RNN\n",
        "model = Sequential([\n",
        "    SimpleRNN(64, input_shape=(X_train_rnn.shape[1], X_train_rnn.shape[2])),\n",
        "    Dense(16, activation='relu'),\n",
        "    Dense(1, activation='sigmoid')\n",
        "])\n",
        "\n",
        "model.compile(optimizer='adam', loss='binary_crossentropy', metrics=['accuracy'])\n",
        "\n",
        "# Обучение\n",
        "model.fit(X_train_rnn, y_train, epochs=15, batch_size=32, validation_split=0.2, verbose=1)\n",
        "\n",
        "# Оценка\n",
        "loss, acc_rnn = model.evaluate(X_test_rnn, y_test, verbose=0)\n",
        "print(f'Accuracy (RNN): {acc_rnn:.4f}')"
      ]
    },
    {
      "cell_type": "code",
      "execution_count": 10,
      "metadata": {},
      "outputs": [
        {
          "name": "stdout",
          "output_type": "stream",
          "text": [
            "\n",
            "Сравнение моделей:\n",
            "Random Forest: 0.7681\n",
            "XGBoost: 0.8270\n",
            "RNN: 0.8297\n"
          ]
        }
      ],
      "source": [
        "# Вывод результатов\n",
        "results = {\n",
        "    'Random Forest': acc_rf,\n",
        "    'XGBoost': acc_xgb,\n",
        "    'RNN': acc_rnn\n",
        "}\n",
        "\n",
        "print('\\nСравнение моделей:')\n",
        "for model_name, acc in results.items():\n",
        "    print(f'{model_name}: {acc:.4f}')"
      ]
    }
  ],
  "metadata": {
    "kernelspec": {
      "display_name": "Python 3",
      "language": "python",
      "name": "python3"
    },
    "language_info": {
      "codemirror_mode": {
        "name": "ipython",
        "version": 3
      },
      "file_extension": ".py",
      "mimetype": "text/x-python",
      "name": "python",
      "nbconvert_exporter": "python",
      "pygments_lexer": "ipython3",
      "version": "3.12.9"
    }
  },
  "nbformat": 4,
  "nbformat_minor": 5
}
