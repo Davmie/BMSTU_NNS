{
  "cells": [
    {
      "cell_type": "markdown",
      "metadata": {},
      "source": [
        "# Дивизия Bike Sharing: Сравнение моделей\n",
        "\n",
        "Цель: сравнить точность Random Forest, XGBoost и RNN на задаче определения типа пользователя (member/casual)."
      ]
    },
    {
      "cell_type": "code",
      "execution_count": 1,
      "metadata": {},
      "outputs": [],
      "source": [
        "import pandas as pd\n",
        "import numpy as np\n",
        "from sklearn.model_selection import train_test_split\n",
        "from sklearn.ensemble import RandomForestClassifier\n",
        "from xgboost import XGBClassifier\n",
        "from sklearn.metrics import accuracy_score\n",
        "from sklearn.preprocessing import LabelEncoder, StandardScaler\n",
        "import tensorflow as tf\n",
        "from tensorflow.keras.models import Sequential\n",
        "from tensorflow.keras.layers import SimpleRNN, Dense"
      ]
    },
    {
      "cell_type": "code",
      "execution_count": 9,
      "metadata": {},
      "outputs": [],
      "source": [
        "# Загрузка данных\n",
        "data = pd.read_csv('../data/202401-divvy-tripdata.csv', low_memory=False)\n",
        "\n",
        "# Выберем сэмпл для ускорения работы\n",
        "sample_data = data.sample(frac=0.1, random_state=42)"
      ]
    },
    {
      "cell_type": "code",
      "execution_count": 10,
      "metadata": {},
      "outputs": [],
      "source": [
        "# Предобработка данных\n",
        "# Преобразуем время начала поездки\n",
        "sample_data['started_at'] = pd.to_datetime(sample_data['started_at'])\n",
        "sample_data['hour'] = sample_data['started_at'].dt.hour\n",
        "sample_data['day_of_week'] = sample_data['started_at'].dt.dayofweek\n",
        "\n",
        "# Длительность поездки\n",
        "sample_data['ended_at'] = pd.to_datetime(sample_data['ended_at'])\n",
        "sample_data['duration_min'] = (sample_data['ended_at'] - sample_data['started_at']).dt.total_seconds() / 60\n",
        "\n",
        "# Категориальные признаки\n",
        "le_bike = LabelEncoder()\n",
        "sample_data['bike_type_encoded'] = le_bike.fit_transform(sample_data['rideable_type'])\n",
        "\n",
        "le_start = LabelEncoder()\n",
        "sample_data['start_station_encoded'] = le_start.fit_transform(sample_data['start_station_name'].astype(str))\n",
        "\n",
        "# Целевая переменная\n",
        "y = sample_data['member_casual'].map({'member': 0, 'casual': 1})\n",
        "\n",
        "# Фичи\n",
        "X = sample_data[['hour', 'day_of_week', 'duration_min', 'bike_type_encoded', 'start_station_encoded']]"
      ]
    },
    {
      "cell_type": "code",
      "execution_count": 11,
      "metadata": {},
      "outputs": [],
      "source": [
        "# Разделение на train/test\n",
        "X_train, X_test, y_train, y_test = train_test_split(X, y, test_size=0.2, random_state=42)\n",
        "\n",
        "# Нормализация\n",
        "scaler = StandardScaler()\n",
        "X_train_scaled = scaler.fit_transform(X_train)\n",
        "X_test_scaled = scaler.transform(X_test)\n",
        "\n",
        "# Для RNN нужно добавить временную ось (samples, timesteps, features)\n",
        "X_train_rnn = X_train_scaled.reshape((X_train_scaled.shape[0], 1, X_train_scaled.shape[1]))\n",
        "X_test_rnn = X_test_scaled.reshape((X_test_scaled.shape[0], 1, X_test_scaled.shape[1]))"
      ]
    },
    {
      "cell_type": "code",
      "execution_count": 12,
      "metadata": {},
      "outputs": [
        {
          "name": "stdout",
          "output_type": "stream",
          "text": [
            "Accuracy (Random Forest): 0.8109\n"
          ]
        }
      ],
      "source": [
        "# Random Forest\n",
        "rf = RandomForestClassifier(n_estimators=100, random_state=42)\n",
        "rf.fit(X_train, y_train)\n",
        "y_pred_rf = rf.predict(X_test)\n",
        "acc_rf = accuracy_score(y_test, y_pred_rf)\n",
        "print(f'Accuracy (Random Forest): {acc_rf:.4f}')"
      ]
    },
    {
      "cell_type": "code",
      "execution_count": 13,
      "metadata": {},
      "outputs": [
        {
          "name": "stdout",
          "output_type": "stream",
          "text": [
            "Accuracy (XGBoost): 0.8168\n"
          ]
        },
        {
          "name": "stderr",
          "output_type": "stream",
          "text": [
            "c:\\Users\\dmitriy.minaev\\AppData\\Local\\Programs\\Python\\Python312\\Lib\\site-packages\\xgboost\\training.py:183: UserWarning: [02:40:44] WARNING: C:\\actions-runner\\_work\\xgboost\\xgboost\\src\\learner.cc:738: \n",
            "Parameters: { \"use_label_encoder\" } are not used.\n",
            "\n",
            "  bst.update(dtrain, iteration=i, fobj=obj)\n"
          ]
        }
      ],
      "source": [
        "# XGBoost\n",
        "xgb = XGBClassifier(use_label_encoder=False, eval_metric='logloss', n_estimators=100, random_state=42)\n",
        "xgb.fit(X_train, y_train)\n",
        "y_pred_xgb = xgb.predict(X_test)\n",
        "acc_xgb = accuracy_score(y_test, y_pred_xgb)\n",
        "print(f'Accuracy (XGBoost): {acc_xgb:.4f}')"
      ]
    },
    {
      "cell_type": "code",
      "execution_count": 14,
      "metadata": {},
      "outputs": [
        {
          "name": "stdout",
          "output_type": "stream",
          "text": [
            "Epoch 1/5\n"
          ]
        },
        {
          "name": "stderr",
          "output_type": "stream",
          "text": [
            "c:\\Users\\dmitriy.minaev\\AppData\\Local\\Programs\\Python\\Python312\\Lib\\site-packages\\keras\\src\\layers\\rnn\\rnn.py:200: UserWarning: Do not pass an `input_shape`/`input_dim` argument to a layer. When using Sequential models, prefer using an `Input(shape)` object as the first layer in the model instead.\n",
            "  super().__init__(**kwargs)\n"
          ]
        },
        {
          "name": "stdout",
          "output_type": "stream",
          "text": [
            "\u001b[1m290/290\u001b[0m \u001b[32m━━━━━━━━━━━━━━━━━━━━\u001b[0m\u001b[37m\u001b[0m \u001b[1m2s\u001b[0m 2ms/step - accuracy: 0.7722 - loss: 0.5262 - val_accuracy: 0.8387 - val_loss: 0.4387\n",
            "Epoch 2/5\n",
            "\u001b[1m290/290\u001b[0m \u001b[32m━━━━━━━━━━━━━━━━━━━━\u001b[0m\u001b[37m\u001b[0m \u001b[1m0s\u001b[0m 1ms/step - accuracy: 0.8323 - loss: 0.4481 - val_accuracy: 0.8387 - val_loss: 0.4380\n",
            "Epoch 3/5\n",
            "\u001b[1m290/290\u001b[0m \u001b[32m━━━━━━━━━━━━━━━━━━━━\u001b[0m\u001b[37m\u001b[0m \u001b[1m0s\u001b[0m 1ms/step - accuracy: 0.8314 - loss: 0.4505 - val_accuracy: 0.8387 - val_loss: 0.4364\n",
            "Epoch 4/5\n",
            "\u001b[1m290/290\u001b[0m \u001b[32m━━━━━━━━━━━━━━━━━━━━\u001b[0m\u001b[37m\u001b[0m \u001b[1m0s\u001b[0m 1ms/step - accuracy: 0.8322 - loss: 0.4461 - val_accuracy: 0.8387 - val_loss: 0.4341\n",
            "Epoch 5/5\n",
            "\u001b[1m290/290\u001b[0m \u001b[32m━━━━━━━━━━━━━━━━━━━━\u001b[0m\u001b[37m\u001b[0m \u001b[1m0s\u001b[0m 1ms/step - accuracy: 0.8330 - loss: 0.4444 - val_accuracy: 0.8387 - val_loss: 0.4337\n",
            "Accuracy (RNN): 0.8237\n"
          ]
        }
      ],
      "source": [
        "# RNN\n",
        "model = Sequential([\n",
        "    SimpleRNN(64, input_shape=(X_train_rnn.shape[1], X_train_rnn.shape[2])),\n",
        "    Dense(16, activation='relu'),\n",
        "    Dense(1, activation='sigmoid')\n",
        "])\n",
        "\n",
        "model.compile(optimizer='adam', loss='binary_crossentropy', metrics=['accuracy'])\n",
        "\n",
        "# Обучение\n",
        "model.fit(X_train_rnn, y_train, epochs=5, batch_size=32, validation_split=0.2, verbose=1)\n",
        "\n",
        "# Оценка\n",
        "loss, acc_rnn = model.evaluate(X_test_rnn, y_test, verbose=0)\n",
        "print(f'Accuracy (RNN): {acc_rnn:.4f}')"
      ]
    },
    {
      "cell_type": "code",
      "execution_count": 15,
      "metadata": {},
      "outputs": [
        {
          "name": "stdout",
          "output_type": "stream",
          "text": [
            "\n",
            "Сравнение моделей:\n",
            "Random Forest: 0.8109\n",
            "XGBoost: 0.8168\n",
            "RNN: 0.8237\n"
          ]
        }
      ],
      "source": [
        "# Вывод результатов\n",
        "results = {\n",
        "    'Random Forest': acc_rf,\n",
        "    'XGBoost': acc_xgb,\n",
        "    'RNN': acc_rnn\n",
        "}\n",
        "\n",
        "print('\\nСравнение моделей:')\n",
        "for model_name, acc in results.items():\n",
        "    print(f'{model_name}: {acc:.4f}')"
      ]
    }
  ],
  "metadata": {
    "kernelspec": {
      "display_name": "Python 3",
      "language": "python",
      "name": "python3"
    },
    "language_info": {
      "codemirror_mode": {
        "name": "ipython",
        "version": 3
      },
      "file_extension": ".py",
      "mimetype": "text/x-python",
      "name": "python",
      "nbconvert_exporter": "python",
      "pygments_lexer": "ipython3",
      "version": "3.12.9"
    }
  },
  "nbformat": 4,
  "nbformat_minor": 5
}
